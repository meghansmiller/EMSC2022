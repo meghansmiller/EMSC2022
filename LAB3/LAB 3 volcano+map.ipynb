{
 "cells": [
  {
   "cell_type": "code",
   "execution_count": null,
   "metadata": {
    "collapsed": true
   },
   "outputs": [],
   "source": [
    "%matplotlib inline\n",
    "\n",
    "import json\n",
    "\n",
    "from lxml import html\n",
    "\n",
    "import cartopy.crs as ccrs\n",
    "\n",
    "import numpy as np\n",
    "import pandas as pd\n",
    "import matplotlib.pyplot as plt\n",
    "\n",
    "chartinfo = 'Author: Meghan Miller | Data: Volcano World - volcano.oregonstate.edu'"
   ]
  },
  {
   "cell_type": "markdown",
   "metadata": {},
   "source": [
    "Read the data from the Oregon State University database at:  http://volcano.oregonstate.edu/oldroot/volcanoes/alpha.html"
   ]
  },
  {
   "cell_type": "code",
   "execution_count": null,
   "metadata": {},
   "outputs": [],
   "source": [
    "pdurl =\n",
    "xpath = '//table'\n",
    "tree = html.parse(pdurl)\n",
    "tables = tree.xpath(xpath)\n",
    "\n",
    "table_dfs = []\n",
    "for idx in range(4, len(tables)):\n",
    "    df = pd.read_html(html.tostring(tables[idx]), header=0)[0]\n",
    "    table_dfs.append(df)"
   ]
  },
  {
   "cell_type": "code",
   "execution_count": null,
   "metadata": {
    "collapsed": true
   },
   "outputs": [],
   "source": [
    "df_volc = pd.concat(table_dfs, ignore_index=True)"
   ]
  },
  {
   "cell_type": "markdown",
   "metadata": {},
   "source": [
    "Clean up the data to make sure the typos and missing information are not propogated into your database"
   ]
  },
  {
   "cell_type": "code",
   "execution_count": null,
   "metadata": {},
   "outputs": [],
   "source": [
    "def cleanup_type(s):\n",
    "    if not isinstance(s, str):\n",
    "        return s\n",
    "    s = s.replace('?', '').replace('  ', ' ')\n",
    "    s = s.replace('volcanoes', 'volcano')\n",
    "    s = s.replace('volcanoe', 'Volcano')\n",
    "    s = s.replace('cones', 'cone')\n",
    "    s = s.replace('Calderas', 'Caldera')\n",
    "    return s.strip().title()\n",
    "\n",
    "df_volc['Type'] = df_volc['Type'].map(cleanup_type)\n",
    "df_volc['Type'].value_counts()"
   ]
  },
  {
   "cell_type": "markdown",
   "metadata": {},
   "source": [
    "Now determine the number of volcanoes in the database."
   ]
  },
  {
   "cell_type": "code",
   "execution_count": null,
   "metadata": {},
   "outputs": [],
   "source": [
    "df_volc.dropna(inplace=True)\n",
    "len(df_volc)"
   ]
  },
  {
   "cell_type": "markdown",
   "metadata": {},
   "source": [
    "Now select the volcanoes that are above sealevel"
   ]
  },
  {
   "cell_type": "code",
   "execution_count": null,
   "metadata": {},
   "outputs": [],
   "source": [
    "df_volc = \n",
    "len(df_volc)"
   ]
  },
  {
   "cell_type": "markdown",
   "metadata": {},
   "source": [
    "Make a nice table of the first 10 volancoes from the information that you grabbed out of the Oregon State University website on volcanoes"
   ]
  },
  {
   "cell_type": "code",
   "execution_count": null,
   "metadata": {},
   "outputs": [],
   "source": [
    "print(len(df_volc))\n",
    "df_volc.head()"
   ]
  },
  {
   "cell_type": "markdown",
   "metadata": {},
   "source": [
    "Determine the number of each type of volcanoes from this list and output this information to the screen."
   ]
  },
  {
   "cell_type": "code",
   "execution_count": null,
   "metadata": {},
   "outputs": [],
   "source": [
    "df_volc['Type'].value_counts()"
   ]
  },
  {
   "cell_type": "code",
   "execution_count": null,
   "metadata": {},
   "outputs": [],
   "source": [
    "df_volc.dropna(inplace=True)\n",
    "len(df_volc)"
   ]
  },
  {
   "cell_type": "markdown",
   "metadata": {
    "inputHidden": false,
    "outputHidden": false
   },
   "source": [
    "Create a simple scatter plot map of the stratavolcanoes"
   ]
  },
  {
   "cell_type": "code",
   "execution_count": null,
   "metadata": {},
   "outputs": [],
   "source": [
    "fig=plt.figure(figsize=(12,8))\n",
    "df = df_volc[df_volc[ ]\n",
    "ax = fig.add_subplot(1,1,1, projection=ccrs.Mollweide())\n",
    "ax.stock_img()\n",
    "ax.annotate('Stratovolcanoes of the world | ' + chartinfo, xy=(0, -1.04), xycoords='axes fraction')\n",
    "ax.scatter(df['Longitude'].array,df['Latitude'].array, color='red', linewidth=1, marker='^', transform=ccrs.Geodetic())\n",
    "\n",
    "plt.show()"
   ]
  }
 ],
 "metadata": {
  "kernel_info": {
   "name": "python3"
  },
  "kernelspec": {
   "display_name": "Python 2",
   "language": "python",
   "name": "python2"
  },
  "language_info": {
   "codemirror_mode": {
    "name": "ipython",
    "version": 2
   },
   "file_extension": ".py",
   "mimetype": "text/x-python",
   "name": "python",
   "nbconvert_exporter": "python",
   "pygments_lexer": "ipython2",
   "version": "2.7.3"
  },
  "nteract": {
   "version": "0.12.3"
  }
 },
 "nbformat": 4,
 "nbformat_minor": 2
}
